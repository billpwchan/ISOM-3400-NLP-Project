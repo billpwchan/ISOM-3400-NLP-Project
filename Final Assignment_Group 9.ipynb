{
 "cells": [
  {
   "cell_type": "markdown",
   "metadata": {},
   "source": [
    "## Group Assignment Part 1 \n",
    "\n",
    "The `review.csv` dataset contains 10000 real reviews for real businesses in the US:\n",
    " - business_id: unique identifer for each business\n",
    " - date: date a review is made\n",
    " - review_id: unique identifier for each review\n",
    " - stars: star ratings of a business, ranging from 1 to 5\n",
    " - text: review comments\n",
    " - user_id: unique identifer for each reviewer\n",
    " - cool: how many people find this review cool\n",
    " - useful: how many people find this review useful \n",
    " - funny: how many people find this review funny"
   ]
  },
  {
   "cell_type": "markdown",
   "metadata": {},
   "source": [
    "### Task 1: Import the dataset and explore the following features of the dataset\n",
    "\n",
    " - 1.1 Shape of the dataset; descriptive statistics of all numeric columns; and check if there are any missing values in the dataset\n",
    " - 1.2 Find out the distribution of star ratings (how many 1s, 2s, 3s, 4s, and 5s)\n",
    " - 1.3 How many unique businesses were reviewed\n",
    " - 1.4 List top 10 businesses with best average ratings (show business ids with ratings) \n",
    " - 1.5 List top 10 businesses with best average ratings, but only those businesses with more than 10 reviews (show business ids with ratings)\n",
    " - 1.6 List top 10 reviewers whose reviews got the most total number of useful ratings (show reviewer IDs with total number of useful ratings)\n",
    " - 1.7 Plot a bar chart for star rating counts (ordered 1 through 5)\n",
    " - 1.8 Plot and see the relationship between review text's lengths and cool/useful/funny respectively (three plots) [Hint: you will need to create a new column for review text's length]\n",
    " - 1.9 Any other useful/interesting statistics & plots you may get or draw from the data "
   ]
  },
  {
   "cell_type": "code",
   "execution_count": 1,
   "metadata": {},
   "outputs": [],
   "source": [
    "# Import libraries and read dataset in. \n",
    "import pandas as pd\n",
    "review = pd.read_csv(\"review.csv\")"
   ]
  },
  {
   "cell_type": "code",
   "execution_count": 2,
   "metadata": {},
   "outputs": [
    {
     "data": {
      "text/plain": [
       "(10000, 10)"
      ]
     },
     "execution_count": 2,
     "metadata": {},
     "output_type": "execute_result"
    }
   ],
   "source": [
    "# 1.shape of the dataset; descriptive statistics of all numeric columns; and check if there is any missing values in the dataset\n",
    "review.shape"
   ]
  },
  {
   "cell_type": "code",
   "execution_count": 3,
   "metadata": {},
   "outputs": [
    {
     "data": {
      "text/html": [
       "<div>\n",
       "<style scoped>\n",
       "    .dataframe tbody tr th:only-of-type {\n",
       "        vertical-align: middle;\n",
       "    }\n",
       "\n",
       "    .dataframe tbody tr th {\n",
       "        vertical-align: top;\n",
       "    }\n",
       "\n",
       "    .dataframe thead th {\n",
       "        text-align: right;\n",
       "    }\n",
       "</style>\n",
       "<table border=\"1\" class=\"dataframe\">\n",
       "  <thead>\n",
       "    <tr style=\"text-align: right;\">\n",
       "      <th></th>\n",
       "      <th>stars</th>\n",
       "      <th>cool</th>\n",
       "      <th>useful</th>\n",
       "      <th>funny</th>\n",
       "    </tr>\n",
       "  </thead>\n",
       "  <tbody>\n",
       "    <tr>\n",
       "      <th>count</th>\n",
       "      <td>10000.000000</td>\n",
       "      <td>10000.000000</td>\n",
       "      <td>10000.000000</td>\n",
       "      <td>10000.000000</td>\n",
       "    </tr>\n",
       "    <tr>\n",
       "      <th>mean</th>\n",
       "      <td>3.777500</td>\n",
       "      <td>0.876800</td>\n",
       "      <td>1.409300</td>\n",
       "      <td>0.701300</td>\n",
       "    </tr>\n",
       "    <tr>\n",
       "      <th>std</th>\n",
       "      <td>1.214636</td>\n",
       "      <td>2.067861</td>\n",
       "      <td>2.336647</td>\n",
       "      <td>1.907942</td>\n",
       "    </tr>\n",
       "    <tr>\n",
       "      <th>min</th>\n",
       "      <td>1.000000</td>\n",
       "      <td>0.000000</td>\n",
       "      <td>0.000000</td>\n",
       "      <td>0.000000</td>\n",
       "    </tr>\n",
       "    <tr>\n",
       "      <th>25%</th>\n",
       "      <td>3.000000</td>\n",
       "      <td>0.000000</td>\n",
       "      <td>0.000000</td>\n",
       "      <td>0.000000</td>\n",
       "    </tr>\n",
       "    <tr>\n",
       "      <th>50%</th>\n",
       "      <td>4.000000</td>\n",
       "      <td>0.000000</td>\n",
       "      <td>1.000000</td>\n",
       "      <td>0.000000</td>\n",
       "    </tr>\n",
       "    <tr>\n",
       "      <th>75%</th>\n",
       "      <td>5.000000</td>\n",
       "      <td>1.000000</td>\n",
       "      <td>2.000000</td>\n",
       "      <td>1.000000</td>\n",
       "    </tr>\n",
       "    <tr>\n",
       "      <th>max</th>\n",
       "      <td>5.000000</td>\n",
       "      <td>77.000000</td>\n",
       "      <td>76.000000</td>\n",
       "      <td>57.000000</td>\n",
       "    </tr>\n",
       "  </tbody>\n",
       "</table>\n",
       "</div>"
      ],
      "text/plain": [
       "              stars          cool        useful         funny\n",
       "count  10000.000000  10000.000000  10000.000000  10000.000000\n",
       "mean       3.777500      0.876800      1.409300      0.701300\n",
       "std        1.214636      2.067861      2.336647      1.907942\n",
       "min        1.000000      0.000000      0.000000      0.000000\n",
       "25%        3.000000      0.000000      0.000000      0.000000\n",
       "50%        4.000000      0.000000      1.000000      0.000000\n",
       "75%        5.000000      1.000000      2.000000      1.000000\n",
       "max        5.000000     77.000000     76.000000     57.000000"
      ]
     },
     "execution_count": 3,
     "metadata": {},
     "output_type": "execute_result"
    }
   ],
   "source": [
    "review.describe()"
   ]
  },
  {
   "cell_type": "code",
   "execution_count": 4,
   "metadata": {},
   "outputs": [
    {
     "data": {
      "text/plain": [
       "business_id    0\n",
       "date           0\n",
       "review_id      0\n",
       "stars          0\n",
       "text           0\n",
       "type           0\n",
       "user_id        0\n",
       "cool           0\n",
       "useful         0\n",
       "funny          0\n",
       "dtype: int64"
      ]
     },
     "execution_count": 4,
     "metadata": {},
     "output_type": "execute_result"
    }
   ],
   "source": [
    "review.isnull().sum()"
   ]
  },
  {
   "cell_type": "code",
   "execution_count": 5,
   "metadata": {},
   "outputs": [
    {
     "data": {
      "text/plain": [
       "stars\n",
       "1     749\n",
       "2     927\n",
       "3    1461\n",
       "4    3526\n",
       "5    3337\n",
       "Name: stars, dtype: int64"
      ]
     },
     "execution_count": 5,
     "metadata": {},
     "output_type": "execute_result"
    }
   ],
   "source": [
    "# 2.the distribution of star ratings (how many 1s, 2s, 3s, 4s, and 5s)\n",
    "review.groupby('stars').stars.count()"
   ]
  },
  {
   "cell_type": "code",
   "execution_count": 6,
   "metadata": {},
   "outputs": [
    {
     "data": {
      "text/plain": [
       "4174"
      ]
     },
     "execution_count": 6,
     "metadata": {},
     "output_type": "execute_result"
    }
   ],
   "source": [
    "# 3. how many businesses were reviewed\n",
    "len(review.groupby('business_id').business_id.count())"
   ]
  },
  {
   "cell_type": "code",
   "execution_count": 7,
   "metadata": {},
   "outputs": [
    {
     "data": {
      "text/plain": [
       "business_id\n",
       "zyYRWnimLbQt9aCCI_2MZw    5.0\n",
       "o2rrTbAxGXrdQKQvKDcGiA    5.0\n",
       "oHjoahzL5F0m-OGDQouEGw    5.0\n",
       "PgcuQvFl76bx42xIFyhzVg    5.0\n",
       "oGYPsU7IJPhyVpd0F5lfTg    5.0\n",
       "PqJwKYHU_eHjw0q0NlULJw    5.0\n",
       "PrYz1XEnvGJ-5Q0VVPCLnQ    5.0\n",
       "oBVS96DtPGk9GU8zPx5Hjg    5.0\n",
       "PwtYeGu-19v9bU4nbP9UbA    5.0\n",
       "Q-dsvMlhEr9TgvX8FxW4uQ    5.0\n",
       "Name: stars, dtype: float64"
      ]
     },
     "execution_count": 7,
     "metadata": {},
     "output_type": "execute_result"
    }
   ],
   "source": [
    "# 4. list top 10 buinesses with best average ratings (show business ids with ratings)\n",
    "review.groupby('business_id').stars.mean().sort_values(ascending=False).head(10)"
   ]
  },
  {
   "cell_type": "code",
   "execution_count": 8,
   "metadata": {},
   "outputs": [
    {
     "data": {
      "text/plain": [
       "business_id\n",
       "KBG28p3lGX17hOPoHhq5PQ    4.818182\n",
       "z3yFuLVrmH-3RJruPEMYKw    4.769231\n",
       "Bc4DoKgrKCtCuN-0O5He3A    4.750000\n",
       "6oRAC4uyJCsJl1X0WZpVSA    4.583333\n",
       "7SO_rX1F6rQEl-5s3wZxgQ    4.571429\n",
       "zp713qNhx8d9KCJJnrw1xA    4.545455\n",
       "I4bSn5gXsHuSPu7L-d_8nQ    4.545455\n",
       "IuAPYzf3NSyfyXYgT46YVA    4.545455\n",
       "hfl62LX14YqNpG0g0Tj6_Q    4.533333\n",
       "L9UYbtAUOcfTgZFimehlXw    4.526316\n",
       "Name: stars, dtype: float64"
      ]
     },
     "execution_count": 8,
     "metadata": {},
     "output_type": "execute_result"
    }
   ],
   "source": [
    "# 5. list top 10 business with best average ratings, but only those with more than 10 reviews (show business ids with ratings)\n",
    "review.groupby('business_id').filter(lambda x : x['review_id'].count() > 10).groupby('business_id').stars.mean().sort_values(ascending=False).head(10)"
   ]
  },
  {
   "cell_type": "code",
   "execution_count": 9,
   "metadata": {},
   "outputs": [
    {
     "data": {
      "text/plain": [
       "user_id\n",
       "fczQCSmaWF78toLEmb0Zsw    293\n",
       "C8ZTiwa7qWoPSMIivTeSfw    143\n",
       "P2kVk4cIWyK4e4h14RhK-Q    132\n",
       "4ozupHULqGyO42s3zNUzOQ    130\n",
       "0bNXP9quoJEgyVZu9ipGgQ    115\n",
       "sEWeeq41k4ohBz4jS_iGRw    103\n",
       "wHg1YkCzdZq9WBJOTRgxHQ    100\n",
       "kGgAARL2UmvCcTRfiscjug     82\n",
       "73eZuIuXVD5sif7GrIMfuQ     76\n",
       "C6IOtaaYdLIT5fWd7ZYIuA     74\n",
       "Name: useful, dtype: int64"
      ]
     },
     "execution_count": 9,
     "metadata": {},
     "output_type": "execute_result"
    }
   ],
   "source": [
    "# 6. list top 10 reviewers whose reviews got the most total number of useful ratings \n",
    "#    (show user IDs with total number of useful ratings)\n",
    "review.groupby('user_id').useful.sum().sort_values(ascending=False).head(10)\n"
   ]
  },
  {
   "cell_type": "code",
   "execution_count": 10,
   "metadata": {},
   "outputs": [
    {
     "data": {
      "text/plain": [
       "<matplotlib.axes._subplots.AxesSubplot at 0x229fb155f60>"
      ]
     },
     "execution_count": 10,
     "metadata": {},
     "output_type": "execute_result"
    },
    {
     "data": {
      "image/png": "[encoded data removed]",
      "text/plain": [
       "<Figure size 432x288 with 1 Axes>"
      ]
     },
     "metadata": {},
     "output_type": "display_data"
    }
   ],
   "source": [
    "# 7. Plot a bar chart for star rating counts (ordered 1 through 5)\n",
    "%matplotlib inline\n",
    "from matplotlib import pyplot as plt\n",
    "\n",
    "review.groupby('stars').stars.count().plot(kind='bar')\n"
   ]
  },
  {
   "cell_type": "code",
   "execution_count": 11,
   "metadata": {},
   "outputs": [
    {
     "data": {
      "text/plain": [
       "<seaborn.axisgrid.PairGrid at 0x229f98edb38>"
      ]
     },
     "execution_count": 11,
     "metadata": {},
     "output_type": "execute_result"
    },
    {
     "data": {
      "image/png": "[encoded data removed]",
      "text/plain": [
       "<Figure size 540x180 with 3 Axes>"
      ]
     },
     "metadata": {},
     "output_type": "display_data"
    }
   ],
   "source": [
    "# 8. plot and see the relationship between review text's lengths and cool/useful/funny respectively (three plots)\n",
    "import seaborn as sns\n",
    "review['textLen'] = review['text'].apply(lambda x : len(x))\n",
    "sns.pairplot(review, x_vars = ['cool', 'useful', 'funny'], y_vars=['textLen'])"
   ]
  },
  {
   "cell_type": "markdown",
   "metadata": {},
   "source": [
    "### Task 2: Use text mining to predict star ratings from review text\n",
    "\n",
    "Your main goal in this task is to find out the relationship between the review texts and the star ratings, as you are interested in knowing what makes people give good versus bad ratings of a business. \n",
    "\n",
    "** For easier comparison, please keep <font color='red'> default percentage of test data, and random_state=1 </font> for all train/test splits!**\n",
    "\n",
    " - 2.1. Train/test split data (using the default train/test percentage), and then predict. Report prediction accuracy and confusion matrix. <font color='red'> Briefly discuss your findings in a word document </font> (e.g., what do you think about the accuracy score; what can you observe from the confusion matrix?).\n",
    " - 2.2. Repeat step 1, but only with reviews that give start ratings 1 or 5.  <font color='red'> Briefly discuss your findings in the word document </font> (e.g., how is the prediction accuracy as compared to that of step 1 and why; any insights from examining false positives and false negative reviews?) \n",
    " - 2.3. Based on the result of step 2, find the top 10 token words in the training data that are most predictive of 5-star reviews; and top 10 token words that are most predictive for 1-star reviews.  <font color='red'> Briefly discuss </font> any insights you can get from examining these token words <font color='red'> in the word document </font>. "
   ]
  },
  {
   "cell_type": "code",
   "execution_count": 12,
   "metadata": {},
   "outputs": [
    {
     "name": "stdout",
     "output_type": "stream",
     "text": [
      "[nltk_data] Downloading package stopwords to\n",
      "[nltk_data]     C:\\Users\\Billp\\AppData\\Roaming\\nltk_data...\n",
      "[nltk_data]   Package stopwords is already up-to-date!\n"
     ]
    }
   ],
   "source": [
    "#### All Required Import Libs for later\n",
    "import nltk\n",
    "nltk.download('stopwords')\n",
    "import numpy as np\n",
    "\n",
    "#from sklearn.linear_model import LogisticRegression \n",
    "from sklearn.ensemble import RandomForestClassifier\n",
    "from sklearn.svm import LinearSVC\n",
    "from sklearn.linear_model import SGDClassifier\n",
    "from sklearn.model_selection import cross_val_score\n",
    "from sklearn.feature_extraction.text import TfidfTransformer\n",
    "from sklearn.feature_extraction.text import TfidfVectorizer\n",
    "from sklearn.feature_extraction.text import CountVectorizer\n",
    "import matplotlib.pyplot as plt\n",
    "\n",
    "from nltk.corpus import stopwords\n",
    "\n",
    "import seaborn as sns\n",
    "import itertools\n",
    "from IPython.display import display\n"
   ]
  },
  {
   "cell_type": "code",
   "execution_count": 13,
   "metadata": {},
   "outputs": [],
   "source": [
    "def plot_confusion_matrix(cm, classes,\n",
    "                          normalize=False,\n",
    "                          title='Confusion matrix',\n",
    "                          cmap=plt.cm.Blues):\n",
    "    \"\"\"\n",
    "    This function prints and plots the confusion matrix.\n",
    "    Normalization can be applied by setting `normalize=True`.\n",
    "    \"\"\"\n",
    "    plt.imshow(cm, interpolation='nearest', cmap=cmap)\n",
    "    plt.title(title)\n",
    "    plt.colorbar()\n",
    "    tick_marks = np.arange(len(classes))\n",
    "    plt.xticks(tick_marks, classes, rotation=45)\n",
    "    plt.yticks(tick_marks, classes)\n",
    "\n",
    "    if normalize:\n",
    "        cm = cm.astype('float') / cm.sum(axis=1)[:, np.newaxis]\n",
    "    thresh = cm.max() / 2.\n",
    "    for i, j in itertools.product(range(cm.shape[0]), range(cm.shape[1])):\n",
    "        plt.text(j, i, cm[i, j],\n",
    "                 horizontalalignment=\"center\",\n",
    "                 color=\"white\" if cm[i, j] > thresh else \"black\")\n",
    "\n",
    "    plt.tight_layout()\n",
    "    plt.ylabel('True label')\n",
    "    plt.xlabel('Predicted label')"
   ]
  },
  {
   "cell_type": "code",
   "execution_count": 14,
   "metadata": {},
   "outputs": [],
   "source": [
    "# function to print confusion matrix and prediction accuracy for easier visualisation\n",
    "def predictionReport(y_test, y_pred, classes):\n",
    "    report_data = []\n",
    "    lines = metrics.classification_report(y_test,y_pred).split('\\n')\n",
    "    for line in lines[2:-3]:\n",
    "        row = {}\n",
    "        row_data = line.split('      ')\n",
    "        row['class'] = row_data[0]\n",
    "        row['precision'] = float(row_data[1])\n",
    "        row['recall'] = float(row_data[2])\n",
    "        row['f1_score'] = float(row_data[3])\n",
    "        row['support'] = float(row_data[4])\n",
    "        report_data.append(row)\n",
    "    print(metrics.classification_report(y_test,y_pred))\n",
    "    print(\"Predication Accuracy: %.10f\"%metrics.accuracy_score(y_test, y_pred))  \n",
    "    plot_confusion_matrix(metrics.confusion_matrix(y_test,y_pred), classes=classes, title='Confusion matrix, without normalization')"
   ]
  },
  {
   "cell_type": "markdown",
   "metadata": {},
   "source": [
    "### Task 2.1 "
   ]
  },
  {
   "cell_type": "code",
   "execution_count": 15,
   "metadata": {},
   "outputs": [
    {
     "name": "stdout",
     "output_type": "stream",
     "text": [
      "Predication Accuracy: 0.4712000000\n"
     ]
    },
    {
     "data": {
      "text/plain": [
       "array([[ 55,  14,  24,  65,  27],\n",
       "       [ 28,  16,  41, 122,  27],\n",
       "       [  5,   7,  35, 281,  37],\n",
       "       [  7,   0,  16, 629, 232],\n",
       "       [  6,   4,   6, 373, 443]], dtype=int64)"
      ]
     },
     "execution_count": 15,
     "metadata": {},
     "output_type": "execute_result"
    }
   ],
   "source": [
    "from sklearn.feature_extraction.text import CountVectorizer\n",
    "from sklearn.model_selection import train_test_split\n",
    "from sklearn.naive_bayes import MultinomialNB\n",
    "from sklearn import metrics\n",
    "\n",
    "vect = CountVectorizer()\n",
    "nb = MultinomialNB()\n",
    "\n",
    "X_train, X_test, y_train, y_test = train_test_split(review['text'], review['stars'], random_state=1)\n",
    "X_train_t = vect.fit_transform(X_train).toarray()\n",
    "X_test_t = vect.transform(X_test).toarray()\n",
    "\n",
    "nb.fit(X_train_t, y_train)\n",
    "y_pred_class = nb.predict(X_test_t)\n",
    "\n",
    "print(\"Predication Accuracy: %.10f\"%metrics.accuracy_score(y_test, y_pred_class))\n",
    "metrics.confusion_matrix(y_test, y_pred_class)"
   ]
  },
  {
   "cell_type": "code",
   "execution_count": 16,
   "metadata": {},
   "outputs": [
    {
     "name": "stdout",
     "output_type": "stream",
     "text": [
      "             precision    recall  f1-score   support\n",
      "\n",
      "          1       0.54      0.30      0.38       185\n",
      "          2       0.39      0.07      0.12       234\n",
      "          3       0.29      0.10      0.14       365\n",
      "          4       0.43      0.71      0.53       884\n",
      "          5       0.58      0.53      0.55       832\n",
      "\n",
      "avg / total       0.46      0.47      0.43      2500\n",
      "\n",
      "Predication Accuracy: 0.4712000000\n"
     ]
    },
    {
     "data": {
      "image/png": "[encoded data removed]",
      "text/plain": [
       "<Figure size 432x288 with 2 Axes>"
      ]
     },
     "metadata": {},
     "output_type": "display_data"
    }
   ],
   "source": [
    "predictionReport(y_test, y_pred_class, ['1', '2', '3', '4', '5'])"
   ]
  },
  {
   "cell_type": "code",
   "execution_count": 17,
   "metadata": {},
   "outputs": [
    {
     "name": "stdout",
     "output_type": "stream",
     "text": [
      "4    2642\n",
      "5    2505\n",
      "3    1096\n",
      "2     693\n",
      "1     564\n",
      "Name: stars, dtype: int64\n"
     ]
    },
    {
     "data": {
      "text/plain": [
       "4    884\n",
       "5    832\n",
       "3    365\n",
       "2    234\n",
       "1    185\n",
       "Name: stars, dtype: int64"
      ]
     },
     "execution_count": 17,
     "metadata": {},
     "output_type": "execute_result"
    }
   ],
   "source": [
    "print(y_train.value_counts())\n",
    "y_test.value_counts()"
   ]
  },
  {
   "cell_type": "markdown",
   "metadata": {},
   "source": [
    "### Task 2.2"
   ]
  },
  {
   "cell_type": "code",
   "execution_count": 18,
   "metadata": {},
   "outputs": [
    {
     "data": {
      "text/plain": [
       "(0       My wife took me here on my birthday for breakf...\n",
       " 1       I have no idea why some people give bad review...\n",
       " 3       Rosie, Dakota, and I LOVE Chaparral Dog Park!!...\n",
       " 4       General Manager Scott Petello is a good egg!!!...\n",
       " 6       Drop what you're doing and drive here. After I...\n",
       " 9       Nobuo shows his unique talents with everything...\n",
       " 10      The oldish man who owns the store is as sweet ...\n",
       " 11      Wonderful Vietnamese sandwich shoppe. Their ba...\n",
       " 12      They have a limited time thing going on right ...\n",
       " 17      okay this is the best place EVER! i grew up sh...\n",
       " 21      This place shouldn't even be reviewed - becaus...\n",
       " 22      first time my friend and I went there... it wa...\n",
       " 23      U can go there n check the car out. If u wanna...\n",
       " 24      I love this place! I have been coming here for...\n",
       " 26      I love love LOVE this place. My boss (who is i...\n",
       " 30      Disclaimer: Like many of you, I am a sucker fo...\n",
       " 31      Disgusting!  Had a Groupon so my daughter and ...\n",
       " 32      Never having dealt with a Discount Tire in Pho...\n",
       " 35      I've eaten here many times, but none as bad as...\n",
       " 46      (Un)fortunately for me, lux is close to my hou...\n",
       " 51      Fred M. pretty much said what I would say, so ...\n",
       " 54      Alright, I have been away from Yelp for quite ...\n",
       " 59      This restaurant is incredible, and has the bes...\n",
       " 61      I have always been a fan of Burlington's deals...\n",
       " 64      Another night meeting friends here.  I have to...\n",
       " 65      Not busy at all but took nearly 45 min to get ...\n",
       " 66      This an incredible church that embraces the pr...\n",
       " 67      This is our favorite breakfast place. The food...\n",
       " 69      I had looked at several invitation websites al...\n",
       " 71      Yikes, reading other reviews I realize my bad ...\n",
       "                               ...                        \n",
       " 9941    I have a fond place in my heart for this estab...\n",
       " 9942    Cork is an enigma.\\n\\nWhat makes it enigmatic ...\n",
       " 9943    Went to Yogurt Kingdom for the first time toni...\n",
       " 9945    I find it hilarious that someone would referen...\n",
       " 9947                                      LOVE Five Guys!\n",
       " 9951    This is a great Mexican food restaurant. I eat...\n",
       " 9953    \"Hipster,Trendy\" ????-I think NOT !!!! Very di...\n",
       " 9956    \"So Jimmy, tell the class what you saw at Swee...\n",
       " 9957    Standard Mexican fare - but quite delicious.  ...\n",
       " 9959    My profile says....\\n\\nMy Last Meal On Earth: ...\n",
       " 9965    Treats: We tried the cookies (chocolate chip a...\n",
       " 9966    I first joined 24 hr fitness about a year ago,...\n",
       " 9969    Leah, the trainer, at Dog House Training Acade...\n",
       " 9970    This place is super cute lunch joint.  I had t...\n",
       " 9971    The staff is great, the food is great, even th...\n",
       " 9973    Wow!  Went on a Sunday around 11am - busy but ...\n",
       " 9975    When I lived in Phoenix, I was a regular at Fe...\n",
       " 9977    Why did I wait so long to try this neighborhoo...\n",
       " 9978    This is the place for a fabulos breakfast!! I ...\n",
       " 9979    Highly recommend. This is my second time here ...\n",
       " 9980    5 stars for the great $5 happy hour specials. ...\n",
       " 9981    We brought the entire family to Giuseppe's las...\n",
       " 9984    Went last night to Whore Foods to get basics t...\n",
       " 9987    The food is delicious.  The service:  discrimi...\n",
       " 9989    Great food and service! Country food at its best!\n",
       " 9990    Yes I do rock the hipster joints.  I dig this ...\n",
       " 9991    Only 4 stars? \\n\\n(A few notes: The folks that...\n",
       " 9992    I'm not normally one to jump at reviewing a ch...\n",
       " 9994    Let's see...what is there NOT to like about Su...\n",
       " 9999    4-5 locations.. all 4.5 star average.. I think...\n",
       " Name: text, Length: 4086, dtype: object, 0       5\n",
       " 1       5\n",
       " 3       5\n",
       " 4       5\n",
       " 6       5\n",
       " 9       5\n",
       " 10      5\n",
       " 11      5\n",
       " 12      5\n",
       " 17      5\n",
       " 21      5\n",
       " 22      5\n",
       " 23      1\n",
       " 24      5\n",
       " 26      5\n",
       " 30      5\n",
       " 31      1\n",
       " 32      5\n",
       " 35      1\n",
       " 46      5\n",
       " 51      5\n",
       " 54      5\n",
       " 59      5\n",
       " 61      1\n",
       " 64      1\n",
       " 65      1\n",
       " 66      5\n",
       " 67      5\n",
       " 69      5\n",
       " 71      1\n",
       "        ..\n",
       " 9941    5\n",
       " 9942    5\n",
       " 9943    5\n",
       " 9945    5\n",
       " 9947    5\n",
       " 9951    5\n",
       " 9953    1\n",
       " 9956    5\n",
       " 9957    5\n",
       " 9959    5\n",
       " 9965    5\n",
       " 9966    5\n",
       " 9969    5\n",
       " 9970    5\n",
       " 9971    5\n",
       " 9973    5\n",
       " 9975    5\n",
       " 9977    5\n",
       " 9978    5\n",
       " 9979    5\n",
       " 9980    5\n",
       " 9981    5\n",
       " 9984    1\n",
       " 9987    1\n",
       " 9989    5\n",
       " 9990    5\n",
       " 9991    5\n",
       " 9992    5\n",
       " 9994    5\n",
       " 9999    5\n",
       " Name: stars, Length: 4086, dtype: int64)"
      ]
     },
     "execution_count": 18,
     "metadata": {},
     "output_type": "execute_result"
    }
   ],
   "source": [
    "review[(review.stars== 1) | (review.stars==5)]['text'], review[(review.stars==1) | (review.stars==5)]['stars']"
   ]
  },
  {
   "cell_type": "code",
   "execution_count": 19,
   "metadata": {},
   "outputs": [
    {
     "name": "stdout",
     "output_type": "stream",
     "text": [
      "Predication Accuracy: 0.9187866928\n"
     ]
    },
    {
     "data": {
      "text/plain": [
       "array([[126,  58],\n",
       "       [ 25, 813]], dtype=int64)"
      ]
     },
     "execution_count": 19,
     "metadata": {},
     "output_type": "execute_result"
    }
   ],
   "source": [
    "vect = CountVectorizer()\n",
    "nb = MultinomialNB()\n",
    "\n",
    "X_train, X_test, y_train, y_test = train_test_split(review[(review.stars== 1) | (review.stars==5)]['text'], review[(review.stars==1) | (review.stars==5)]['stars'], random_state=1)\n",
    "X_train_t = vect.fit_transform(X_train).toarray()\n",
    "X_test_t = vect.transform(X_test).toarray()\n",
    "\n",
    "nb.fit(X_train_t, y_train)\n",
    "y_pred_class = nb.predict(X_test_t)\n",
    "\n",
    "print(\"Predication Accuracy: %.10f\"%metrics.accuracy_score(y_test, y_pred_class))\n",
    "metrics.confusion_matrix(y_test, y_pred_class)"
   ]
  },
  {
   "cell_type": "code",
   "execution_count": 20,
   "metadata": {
    "scrolled": true
   },
   "outputs": [
    {
     "name": "stdout",
     "output_type": "stream",
     "text": [
      "             precision    recall  f1-score   support\n",
      "\n",
      "          1       0.83      0.68      0.75       184\n",
      "          5       0.93      0.97      0.95       838\n",
      "\n",
      "avg / total       0.92      0.92      0.92      1022\n",
      "\n",
      "Predication Accuracy: 0.9187866928\n"
     ]
    },
    {
     "data": {
      "image/png": "[encoded data removed]",
      "text/plain": [
       "<Figure size 432x288 with 2 Axes>"
      ]
     },
     "metadata": {},
     "output_type": "display_data"
    }
   ],
   "source": [
    "predictionReport(y_test, y_pred_class, ['1', '5'])"
   ]
  },
  {
   "cell_type": "code",
   "execution_count": 21,
   "metadata": {},
   "outputs": [
    {
     "name": "stdout",
     "output_type": "stream",
     "text": [
      "5    2499\n",
      "1     565\n",
      "Name: stars, dtype: int64\n"
     ]
    },
    {
     "data": {
      "text/plain": [
       "5    838\n",
       "1    184\n",
       "Name: stars, dtype: int64"
      ]
     },
     "execution_count": 21,
     "metadata": {},
     "output_type": "execute_result"
    }
   ],
   "source": [
    "print(y_train.value_counts())\n",
    "y_test.value_counts()"
   ]
  },
  {
   "cell_type": "code",
   "execution_count": 22,
   "metadata": {},
   "outputs": [
    {
     "name": "stdout",
     "output_type": "stream",
     "text": [
      "(58,)\n"
     ]
    },
    {
     "data": {
      "text/plain": [
       "2175    This has to be the worst restaurant in terms o...\n",
       "1781    If you like the stuck up Scottsdale vibe this ...\n",
       "2674    I'm sorry to be what seems to be the lone one ...\n",
       "9984    Went last night to Whore Foods to get basics t...\n",
       "3392    I found Lisa G's while driving through phoenix...\n",
       "8283    Don't know where I should start. Grand opening...\n",
       "2765    Went last week, and ordered a dozen variety. I...\n",
       "2839    Never Again,\\nI brought my Mountain Bike in (w...\n",
       "321     My wife and I live around the corner, hadn't e...\n",
       "1919                                         D-scust-ing.\n",
       "2490    Lazy Q CLOSED in 2010.  New Owners cleaned up ...\n",
       "9125    La Grande Orange Grocery has a problem. It can...\n",
       "9185    For frozen yogurt quality, I give this place a...\n",
       "436     this another place that i would give no stars ...\n",
       "2051    Sadly with new owners comes changes on menu.  ...\n",
       "Name: text, dtype: object"
      ]
     },
     "execution_count": 22,
     "metadata": {},
     "output_type": "execute_result"
    }
   ],
   "source": [
    "print(X_test[(y_test == 1) & (y_pred_class==5)].shape)\n",
    "X_test[(y_test == 1) & (y_pred_class==5)].head(15)\n"
   ]
  },
  {
   "cell_type": "code",
   "execution_count": 23,
   "metadata": {},
   "outputs": [
    {
     "name": "stdout",
     "output_type": "stream",
     "text": [
      "(25,)\n"
     ]
    },
    {
     "data": {
      "text/plain": [
       "7148    I now consider myself an Arizonian. If you dri...\n",
       "4963    This is by far my favourite department store, ...\n",
       "6318    Since I have ranted recently on poor customer ...\n",
       "380     This is a must try for any Mani Pedi fan. I us...\n",
       "5565    I`ve had work done by this shop a few times th...\n",
       "3448    I was there last week with my sisters and whil...\n",
       "6050    I went to sears today to check on a layaway th...\n",
       "2504    I've passed by prestige nails in walmart 100s ...\n",
       "2475    This place is so great! I am a nanny and had t...\n",
       "241     I was sad to come back to lai lai's and they n...\n",
       "3149    I was told to see Greg after a local shop diag...\n",
       "423     These guys helped me out with my rear windshie...\n",
       "763     Here's the deal. I said I was done with OT, bu...\n",
       "8956    I took my computer to RedSeven recently when m...\n",
       "750     This store has the most pleasant employees of ...\n",
       "9765    You can't give anything less than 5 stars to a...\n",
       "6334    I came here today for a manicure and pedicure....\n",
       "1282    Loved my haircut. Walked in and waited for jus...\n",
       "1266    I've never been to this location before. My hu...\n",
       "402     Once again Wildflower proves why it's my favor...\n",
       "4034    \"Fine dining\" is not just a setting.  it isn't...\n",
       "2444    EXCELLENT CUSTOMER SERVICE! \\n\\nEven with Happ...\n",
       "2494    What a great surprise stumbling across this ba...\n",
       "5736    Thank goodness for Sue at Mill Avenue Travel. ...\n",
       "7903    First, I'm sorry this review is lengthy, but i...\n",
       "Name: text, dtype: object"
      ]
     },
     "execution_count": 23,
     "metadata": {},
     "output_type": "execute_result"
    }
   ],
   "source": [
    "print(X_test[(y_test == 5) & (y_pred_class==1)].shape)\n",
    "X_test[(y_test == 5) & (y_pred_class==1)]"
   ]
  },
  {
   "cell_type": "markdown",
   "metadata": {},
   "source": [
    "### Task 2.3"
   ]
  },
  {
   "cell_type": "code",
   "execution_count": 24,
   "metadata": {},
   "outputs": [
    {
     "data": {
      "text/plain": [
       "16825"
      ]
     },
     "execution_count": 24,
     "metadata": {},
     "output_type": "execute_result"
    }
   ],
   "source": [
    "X_train_tokens = vect.get_feature_names()\n",
    "len(X_train_tokens)"
   ]
  },
  {
   "cell_type": "code",
   "execution_count": 25,
   "metadata": {},
   "outputs": [
    {
     "name": "stdout",
     "output_type": "stream",
     "text": [
      "(2, 16825)\n"
     ]
    },
    {
     "data": {
      "text/plain": [
       "array([ 565., 2499.])"
      ]
     },
     "execution_count": 25,
     "metadata": {},
     "output_type": "execute_result"
    }
   ],
   "source": [
    "print(nb.feature_count_.shape)\n",
    "nb.class_count_"
   ]
  },
  {
   "cell_type": "code",
   "execution_count": 26,
   "metadata": {},
   "outputs": [
    {
     "data": {
      "text/plain": [
       "array([39.,  5.,  0., ...,  1.,  1.,  1.])"
      ]
     },
     "execution_count": 26,
     "metadata": {},
     "output_type": "execute_result"
    }
   ],
   "source": [
    "five_token_count = nb.feature_count_[1, :]\n",
    "five_token_count"
   ]
  },
  {
   "cell_type": "code",
   "execution_count": 27,
   "metadata": {},
   "outputs": [
    {
     "data": {
      "text/plain": [
       "array([26.,  4.,  1., ...,  0.,  0.,  0.])"
      ]
     },
     "execution_count": 27,
     "metadata": {},
     "output_type": "execute_result"
    }
   ],
   "source": [
    "one_token_count = nb.feature_count_[0, :]\n",
    "one_token_count"
   ]
  },
  {
   "cell_type": "code",
   "execution_count": 28,
   "metadata": {},
   "outputs": [
    {
     "data": {
      "text/html": [
       "<div>\n",
       "<style scoped>\n",
       "    .dataframe tbody tr th:only-of-type {\n",
       "        vertical-align: middle;\n",
       "    }\n",
       "\n",
       "    .dataframe tbody tr th {\n",
       "        vertical-align: top;\n",
       "    }\n",
       "\n",
       "    .dataframe thead th {\n",
       "        text-align: right;\n",
       "    }\n",
       "</style>\n",
       "<table border=\"1\" class=\"dataframe\">\n",
       "  <thead>\n",
       "    <tr style=\"text-align: right;\">\n",
       "      <th></th>\n",
       "      <th>Five_Star</th>\n",
       "      <th>One_Star</th>\n",
       "    </tr>\n",
       "  </thead>\n",
       "  <tbody>\n",
       "    <tr>\n",
       "      <th>the</th>\n",
       "      <td>14,008</td>\n",
       "      <td>4,175</td>\n",
       "    </tr>\n",
       "    <tr>\n",
       "      <th>and</th>\n",
       "      <td>10,429</td>\n",
       "      <td>2,659</td>\n",
       "    </tr>\n",
       "    <tr>\n",
       "      <th>to</th>\n",
       "      <td>6,333</td>\n",
       "      <td>2,409</td>\n",
       "    </tr>\n",
       "    <tr>\n",
       "      <th>of</th>\n",
       "      <td>4,557</td>\n",
       "      <td>1,294</td>\n",
       "    </tr>\n",
       "    <tr>\n",
       "      <th>is</th>\n",
       "      <td>4,390</td>\n",
       "      <td>770</td>\n",
       "    </tr>\n",
       "    <tr>\n",
       "      <th>it</th>\n",
       "      <td>4,259</td>\n",
       "      <td>1,328</td>\n",
       "    </tr>\n",
       "    <tr>\n",
       "      <th>was</th>\n",
       "      <td>3,534</td>\n",
       "      <td>1,484</td>\n",
       "    </tr>\n",
       "    <tr>\n",
       "      <th>in</th>\n",
       "      <td>3,486</td>\n",
       "      <td>941</td>\n",
       "    </tr>\n",
       "    <tr>\n",
       "      <th>for</th>\n",
       "      <td>3,315</td>\n",
       "      <td>970</td>\n",
       "    </tr>\n",
       "    <tr>\n",
       "      <th>you</th>\n",
       "      <td>2,902</td>\n",
       "      <td>637</td>\n",
       "    </tr>\n",
       "  </tbody>\n",
       "</table>\n",
       "</div>"
      ],
      "text/plain": [
       "     Five_Star  One_Star\n",
       "the     14,008     4,175\n",
       "and     10,429     2,659\n",
       "to       6,333     2,409\n",
       "of       4,557     1,294\n",
       "is       4,390       770\n",
       "it       4,259     1,328\n",
       "was      3,534     1,484\n",
       "in       3,486       941\n",
       "for      3,315       970\n",
       "you      2,902       637"
      ]
     },
     "execution_count": 28,
     "metadata": {},
     "output_type": "execute_result"
    }
   ],
   "source": [
    "pd.options.display.float_format = '{:,.0f}'.format\n",
    "tokens = pd.DataFrame({'Five_Star':five_token_count, 'One_Star':one_token_count}, index=X_train_tokens)\n",
    "tokens.sort_values('Five_Star', ascending = False).head(10)"
   ]
  },
  {
   "cell_type": "code",
   "execution_count": 29,
   "metadata": {},
   "outputs": [
    {
     "data": {
      "text/html": [
       "<div>\n",
       "<style scoped>\n",
       "    .dataframe tbody tr th:only-of-type {\n",
       "        vertical-align: middle;\n",
       "    }\n",
       "\n",
       "    .dataframe tbody tr th {\n",
       "        vertical-align: top;\n",
       "    }\n",
       "\n",
       "    .dataframe thead th {\n",
       "        text-align: right;\n",
       "    }\n",
       "</style>\n",
       "<table border=\"1\" class=\"dataframe\">\n",
       "  <thead>\n",
       "    <tr style=\"text-align: right;\">\n",
       "      <th></th>\n",
       "      <th>Five_Star</th>\n",
       "      <th>One_Star</th>\n",
       "    </tr>\n",
       "  </thead>\n",
       "  <tbody>\n",
       "    <tr>\n",
       "      <th>the</th>\n",
       "      <td>14,008</td>\n",
       "      <td>4,175</td>\n",
       "    </tr>\n",
       "    <tr>\n",
       "      <th>and</th>\n",
       "      <td>10,429</td>\n",
       "      <td>2,659</td>\n",
       "    </tr>\n",
       "    <tr>\n",
       "      <th>to</th>\n",
       "      <td>6,333</td>\n",
       "      <td>2,409</td>\n",
       "    </tr>\n",
       "    <tr>\n",
       "      <th>was</th>\n",
       "      <td>3,534</td>\n",
       "      <td>1,484</td>\n",
       "    </tr>\n",
       "    <tr>\n",
       "      <th>it</th>\n",
       "      <td>4,259</td>\n",
       "      <td>1,328</td>\n",
       "    </tr>\n",
       "    <tr>\n",
       "      <th>of</th>\n",
       "      <td>4,557</td>\n",
       "      <td>1,294</td>\n",
       "    </tr>\n",
       "    <tr>\n",
       "      <th>for</th>\n",
       "      <td>3,315</td>\n",
       "      <td>970</td>\n",
       "    </tr>\n",
       "    <tr>\n",
       "      <th>that</th>\n",
       "      <td>2,591</td>\n",
       "      <td>958</td>\n",
       "    </tr>\n",
       "    <tr>\n",
       "      <th>in</th>\n",
       "      <td>3,486</td>\n",
       "      <td>941</td>\n",
       "    </tr>\n",
       "    <tr>\n",
       "      <th>my</th>\n",
       "      <td>2,689</td>\n",
       "      <td>841</td>\n",
       "    </tr>\n",
       "  </tbody>\n",
       "</table>\n",
       "</div>"
      ],
      "text/plain": [
       "      Five_Star  One_Star\n",
       "the      14,008     4,175\n",
       "and      10,429     2,659\n",
       "to        6,333     2,409\n",
       "was       3,534     1,484\n",
       "it        4,259     1,328\n",
       "of        4,557     1,294\n",
       "for       3,315       970\n",
       "that      2,591       958\n",
       "in        3,486       941\n",
       "my        2,689       841"
      ]
     },
     "execution_count": 29,
     "metadata": {},
     "output_type": "execute_result"
    }
   ],
   "source": [
    "tokens.sort_values('One_Star', ascending = False).head(10)"
   ]
  },
  {
   "cell_type": "code",
   "execution_count": 30,
   "metadata": {},
   "outputs": [],
   "source": [
    "tokens['Five_Star'] = tokens['Five_Star'] + 1\n",
    "tokens['One_Star'] = tokens['One_Star'] + 1"
   ]
  },
  {
   "cell_type": "code",
   "execution_count": 31,
   "metadata": {},
   "outputs": [
    {
     "data": {
      "text/html": [
       "<div>\n",
       "<style scoped>\n",
       "    .dataframe tbody tr th:only-of-type {\n",
       "        vertical-align: middle;\n",
       "    }\n",
       "\n",
       "    .dataframe tbody tr th {\n",
       "        vertical-align: top;\n",
       "    }\n",
       "\n",
       "    .dataframe thead th {\n",
       "        text-align: right;\n",
       "    }\n",
       "</style>\n",
       "<table border=\"1\" class=\"dataframe\">\n",
       "  <thead>\n",
       "    <tr style=\"text-align: right;\">\n",
       "      <th></th>\n",
       "      <th>Five_Star</th>\n",
       "      <th>One_Star</th>\n",
       "    </tr>\n",
       "  </thead>\n",
       "  <tbody>\n",
       "    <tr>\n",
       "      <th>and</th>\n",
       "      <td>10,430</td>\n",
       "      <td>2,660</td>\n",
       "    </tr>\n",
       "    <tr>\n",
       "      <th>the</th>\n",
       "      <td>14,009</td>\n",
       "      <td>4,176</td>\n",
       "    </tr>\n",
       "    <tr>\n",
       "      <th>to</th>\n",
       "      <td>6,334</td>\n",
       "      <td>2,410</td>\n",
       "    </tr>\n",
       "  </tbody>\n",
       "</table>\n",
       "</div>"
      ],
      "text/plain": [
       "     Five_Star  One_Star\n",
       "and     10,430     2,660\n",
       "the     14,009     4,176\n",
       "to       6,334     2,410"
      ]
     },
     "execution_count": 31,
     "metadata": {},
     "output_type": "execute_result"
    }
   ],
   "source": [
    "# showing new count for some token words\n",
    "tokens.loc[(tokens.index == 'the')|(tokens.index == 'and')|(tokens.index == 'to'),:]"
   ]
  },
  {
   "cell_type": "code",
   "execution_count": 32,
   "metadata": {},
   "outputs": [
    {
     "data": {
      "text/plain": [
       "array([ 565., 2499.])"
      ]
     },
     "execution_count": 32,
     "metadata": {},
     "output_type": "execute_result"
    }
   ],
   "source": [
    "nb.class_count_"
   ]
  },
  {
   "cell_type": "code",
   "execution_count": 33,
   "metadata": {},
   "outputs": [
    {
     "data": {
      "text/plain": [
       "5    2499\n",
       "1     565\n",
       "Name: stars, dtype: int64"
      ]
     },
     "execution_count": 33,
     "metadata": {},
     "output_type": "execute_result"
    }
   ],
   "source": [
    "y_train.value_counts()"
   ]
  },
  {
   "cell_type": "code",
   "execution_count": 34,
   "metadata": {},
   "outputs": [],
   "source": [
    "tokens['Five_Star_freq'] = tokens.Five_Star/nb.class_count_[1]\n",
    "tokens['One_Star_freq'] = tokens.One_Star/nb.class_count_[0]"
   ]
  },
  {
   "cell_type": "code",
   "execution_count": 35,
   "metadata": {},
   "outputs": [],
   "source": [
    "tokens['Five_ratio'] = tokens.Five_Star_freq/tokens.One_Star_freq"
   ]
  },
  {
   "cell_type": "code",
   "execution_count": 36,
   "metadata": {},
   "outputs": [],
   "source": [
    "tokens['One_ratio'] = tokens.One_Star_freq/tokens.Five_Star_freq"
   ]
  },
  {
   "cell_type": "code",
   "execution_count": 37,
   "metadata": {},
   "outputs": [
    {
     "data": {
      "text/html": [
       "<div>\n",
       "<style scoped>\n",
       "    .dataframe tbody tr th:only-of-type {\n",
       "        vertical-align: middle;\n",
       "    }\n",
       "\n",
       "    .dataframe tbody tr th {\n",
       "        vertical-align: top;\n",
       "    }\n",
       "\n",
       "    .dataframe thead th {\n",
       "        text-align: right;\n",
       "    }\n",
       "</style>\n",
       "<table border=\"1\" class=\"dataframe\">\n",
       "  <thead>\n",
       "    <tr style=\"text-align: right;\">\n",
       "      <th></th>\n",
       "      <th>Five_Star</th>\n",
       "      <th>One_Star</th>\n",
       "      <th>Five_Star_freq</th>\n",
       "      <th>One_Star_freq</th>\n",
       "      <th>Five_ratio</th>\n",
       "      <th>One_ratio</th>\n",
       "    </tr>\n",
       "  </thead>\n",
       "  <tbody>\n",
       "    <tr>\n",
       "      <th>fantastic</th>\n",
       "      <td>193</td>\n",
       "      <td>2</td>\n",
       "      <td>0</td>\n",
       "      <td>0</td>\n",
       "      <td>22</td>\n",
       "      <td>0</td>\n",
       "    </tr>\n",
       "    <tr>\n",
       "      <th>perfect</th>\n",
       "      <td>245</td>\n",
       "      <td>3</td>\n",
       "      <td>0</td>\n",
       "      <td>0</td>\n",
       "      <td>18</td>\n",
       "      <td>0</td>\n",
       "    </tr>\n",
       "    <tr>\n",
       "      <th>yum</th>\n",
       "      <td>62</td>\n",
       "      <td>1</td>\n",
       "      <td>0</td>\n",
       "      <td>0</td>\n",
       "      <td>14</td>\n",
       "      <td>0</td>\n",
       "    </tr>\n",
       "    <tr>\n",
       "      <th>favorite</th>\n",
       "      <td>345</td>\n",
       "      <td>7</td>\n",
       "      <td>0</td>\n",
       "      <td>0</td>\n",
       "      <td>11</td>\n",
       "      <td>0</td>\n",
       "    </tr>\n",
       "    <tr>\n",
       "      <th>outstanding</th>\n",
       "      <td>49</td>\n",
       "      <td>1</td>\n",
       "      <td>0</td>\n",
       "      <td>0</td>\n",
       "      <td>11</td>\n",
       "      <td>0</td>\n",
       "    </tr>\n",
       "    <tr>\n",
       "      <th>brunch</th>\n",
       "      <td>42</td>\n",
       "      <td>1</td>\n",
       "      <td>0</td>\n",
       "      <td>0</td>\n",
       "      <td>9</td>\n",
       "      <td>0</td>\n",
       "    </tr>\n",
       "    <tr>\n",
       "      <th>gem</th>\n",
       "      <td>40</td>\n",
       "      <td>1</td>\n",
       "      <td>0</td>\n",
       "      <td>0</td>\n",
       "      <td>9</td>\n",
       "      <td>0</td>\n",
       "    </tr>\n",
       "    <tr>\n",
       "      <th>mozzarella</th>\n",
       "      <td>39</td>\n",
       "      <td>1</td>\n",
       "      <td>0</td>\n",
       "      <td>0</td>\n",
       "      <td>9</td>\n",
       "      <td>0</td>\n",
       "    </tr>\n",
       "    <tr>\n",
       "      <th>pasty</th>\n",
       "      <td>39</td>\n",
       "      <td>1</td>\n",
       "      <td>0</td>\n",
       "      <td>0</td>\n",
       "      <td>9</td>\n",
       "      <td>0</td>\n",
       "    </tr>\n",
       "    <tr>\n",
       "      <th>amazing</th>\n",
       "      <td>463</td>\n",
       "      <td>12</td>\n",
       "      <td>0</td>\n",
       "      <td>0</td>\n",
       "      <td>9</td>\n",
       "      <td>0</td>\n",
       "    </tr>\n",
       "  </tbody>\n",
       "</table>\n",
       "</div>"
      ],
      "text/plain": [
       "             Five_Star  One_Star  Five_Star_freq  One_Star_freq  Five_ratio  \\\n",
       "fantastic          193         2               0              0          22   \n",
       "perfect            245         3               0              0          18   \n",
       "yum                 62         1               0              0          14   \n",
       "favorite           345         7               0              0          11   \n",
       "outstanding         49         1               0              0          11   \n",
       "brunch              42         1               0              0           9   \n",
       "gem                 40         1               0              0           9   \n",
       "mozzarella          39         1               0              0           9   \n",
       "pasty               39         1               0              0           9   \n",
       "amazing            463        12               0              0           9   \n",
       "\n",
       "             One_ratio  \n",
       "fantastic            0  \n",
       "perfect              0  \n",
       "yum                  0  \n",
       "favorite             0  \n",
       "outstanding          0  \n",
       "brunch               0  \n",
       "gem                  0  \n",
       "mozzarella           0  \n",
       "pasty                0  \n",
       "amazing              0  "
      ]
     },
     "execution_count": 37,
     "metadata": {},
     "output_type": "execute_result"
    }
   ],
   "source": [
    "tokens.sort_values('Five_ratio', ascending=False).head(10)"
   ]
  },
  {
   "cell_type": "code",
   "execution_count": 38,
   "metadata": {},
   "outputs": [
    {
     "data": {
      "text/html": [
       "<div>\n",
       "<style scoped>\n",
       "    .dataframe tbody tr th:only-of-type {\n",
       "        vertical-align: middle;\n",
       "    }\n",
       "\n",
       "    .dataframe tbody tr th {\n",
       "        vertical-align: top;\n",
       "    }\n",
       "\n",
       "    .dataframe thead th {\n",
       "        text-align: right;\n",
       "    }\n",
       "</style>\n",
       "<table border=\"1\" class=\"dataframe\">\n",
       "  <thead>\n",
       "    <tr style=\"text-align: right;\">\n",
       "      <th></th>\n",
       "      <th>Five_Star</th>\n",
       "      <th>One_Star</th>\n",
       "      <th>Five_Star_freq</th>\n",
       "      <th>One_Star_freq</th>\n",
       "      <th>Five_ratio</th>\n",
       "      <th>One_ratio</th>\n",
       "    </tr>\n",
       "  </thead>\n",
       "  <tbody>\n",
       "    <tr>\n",
       "      <th>staffperson</th>\n",
       "      <td>1</td>\n",
       "      <td>17</td>\n",
       "      <td>0</td>\n",
       "      <td>0</td>\n",
       "      <td>0</td>\n",
       "      <td>75</td>\n",
       "    </tr>\n",
       "    <tr>\n",
       "      <th>refused</th>\n",
       "      <td>1</td>\n",
       "      <td>14</td>\n",
       "      <td>0</td>\n",
       "      <td>0</td>\n",
       "      <td>0</td>\n",
       "      <td>62</td>\n",
       "    </tr>\n",
       "    <tr>\n",
       "      <th>disgusting</th>\n",
       "      <td>2</td>\n",
       "      <td>24</td>\n",
       "      <td>0</td>\n",
       "      <td>0</td>\n",
       "      <td>0</td>\n",
       "      <td>53</td>\n",
       "    </tr>\n",
       "    <tr>\n",
       "      <th>filthy</th>\n",
       "      <td>1</td>\n",
       "      <td>11</td>\n",
       "      <td>0</td>\n",
       "      <td>0</td>\n",
       "      <td>0</td>\n",
       "      <td>49</td>\n",
       "    </tr>\n",
       "    <tr>\n",
       "      <th>unacceptable</th>\n",
       "      <td>1</td>\n",
       "      <td>9</td>\n",
       "      <td>0</td>\n",
       "      <td>0</td>\n",
       "      <td>0</td>\n",
       "      <td>40</td>\n",
       "    </tr>\n",
       "    <tr>\n",
       "      <th>acknowledge</th>\n",
       "      <td>1</td>\n",
       "      <td>9</td>\n",
       "      <td>0</td>\n",
       "      <td>0</td>\n",
       "      <td>0</td>\n",
       "      <td>40</td>\n",
       "    </tr>\n",
       "    <tr>\n",
       "      <th>unprofessional</th>\n",
       "      <td>1</td>\n",
       "      <td>9</td>\n",
       "      <td>0</td>\n",
       "      <td>0</td>\n",
       "      <td>0</td>\n",
       "      <td>40</td>\n",
       "    </tr>\n",
       "    <tr>\n",
       "      <th>ugh</th>\n",
       "      <td>2</td>\n",
       "      <td>17</td>\n",
       "      <td>0</td>\n",
       "      <td>0</td>\n",
       "      <td>0</td>\n",
       "      <td>38</td>\n",
       "    </tr>\n",
       "    <tr>\n",
       "      <th>yuck</th>\n",
       "      <td>2</td>\n",
       "      <td>16</td>\n",
       "      <td>0</td>\n",
       "      <td>0</td>\n",
       "      <td>0</td>\n",
       "      <td>35</td>\n",
       "    </tr>\n",
       "    <tr>\n",
       "      <th>fuse</th>\n",
       "      <td>1</td>\n",
       "      <td>8</td>\n",
       "      <td>0</td>\n",
       "      <td>0</td>\n",
       "      <td>0</td>\n",
       "      <td>35</td>\n",
       "    </tr>\n",
       "  </tbody>\n",
       "</table>\n",
       "</div>"
      ],
      "text/plain": [
       "                Five_Star  One_Star  Five_Star_freq  One_Star_freq  \\\n",
       "staffperson             1        17               0              0   \n",
       "refused                 1        14               0              0   \n",
       "disgusting              2        24               0              0   \n",
       "filthy                  1        11               0              0   \n",
       "unacceptable            1         9               0              0   \n",
       "acknowledge             1         9               0              0   \n",
       "unprofessional          1         9               0              0   \n",
       "ugh                     2        17               0              0   \n",
       "yuck                    2        16               0              0   \n",
       "fuse                    1         8               0              0   \n",
       "\n",
       "                Five_ratio  One_ratio  \n",
       "staffperson              0         75  \n",
       "refused                  0         62  \n",
       "disgusting               0         53  \n",
       "filthy                   0         49  \n",
       "unacceptable             0         40  \n",
       "acknowledge              0         40  \n",
       "unprofessional           0         40  \n",
       "ugh                      0         38  \n",
       "yuck                     0         35  \n",
       "fuse                     0         35  "
      ]
     },
     "execution_count": 38,
     "metadata": {},
     "output_type": "execute_result"
    }
   ],
   "source": [
    "tokens.sort_values('One_ratio', ascending=False).head(10)"
   ]
  },
  {
   "cell_type": "markdown",
   "metadata": {},
   "source": [
    "### Task 3.1"
   ]
  },
  {
   "cell_type": "markdown",
   "metadata": {},
   "source": [
    "For prediction Star 1/5\n",
    "- 3.1.1 kneighborsclassifier \n",
    "- 3.1.2 RandomForestClassifier \n",
    "- 3.1.3 Log Support Vector Machines\n",
    "- 3.1.4 Linear Support Vector Machines\n",
    "- 3.1.5 Logistic Regression\n",
    "- 3.1.6 best accuracy with Logistic Regression and only including reviews longer than 20 words + only words longer than 3 letters"
   ]
  },
  {
   "cell_type": "code",
   "execution_count": 39,
   "metadata": {},
   "outputs": [
    {
     "name": "stdout",
     "output_type": "stream",
     "text": [
      "Predication Accuracy: 0.8395303327\n"
     ]
    }
   ],
   "source": [
    "###3.1.1 try kneighborsclassifier (k=5)\n",
    "from sklearn.neighbors import KNeighborsClassifier\n",
    "knn = KNeighborsClassifier(n_neighbors = 5)\n",
    "X_train, X_test, y_train, y_test = train_test_split(review[(review.stars== 1)| (review.stars==5)]['text'], review[(review.stars==1)| (review.stars==5)]['stars'], random_state=1)\n",
    "X_train_t = vect.fit_transform(X_train)\n",
    "X_test_t = vect.transform(X_test)\n",
    "knn.fit(X_train_t, y_train)\n",
    "y_pred_class = knn.predict(X_test_t)\n",
    "\n",
    "print(\"Predication Accuracy: %.10f\"%metrics.accuracy_score(y_test, y_pred_class))\n"
   ]
  },
  {
   "cell_type": "code",
   "execution_count": 40,
   "metadata": {},
   "outputs": [],
   "source": [
    "#Try what value of k should be used\n",
    "k_range = range(1,26)\n",
    "scores = []\n",
    "for k in k_range:\n",
    "    knn = KNeighborsClassifier(n_neighbors = k)\n",
    "    knn.fit(X_train_t, y_train)\n",
    "    y_pred_class = knn.predict(X_test_t)\n",
    "    scores.append(metrics.accuracy_score(y_test, y_pred_class))"
   ]
  },
  {
   "cell_type": "code",
   "execution_count": 41,
   "metadata": {},
   "outputs": [
    {
     "data": {
      "text/plain": [
       "Text(0,0.5,'Testing Accuracy')"
      ]
     },
     "execution_count": 41,
     "metadata": {},
     "output_type": "execute_result"
    },
    {
     "data": {
      "image/png": "[encoded data removed]",
      "text/plain": [
       "<Figure size 432x288 with 1 Axes>"
      ]
     },
     "metadata": {},
     "output_type": "display_data"
    }
   ],
   "source": [
    "# allow plots to appears inside notebook\n",
    "%matplotlib inline\n",
    "\n",
    "# plot the relationship between k and scores (the testing accuracy)\n",
    "plt.plot(k_range, scores)\n",
    "plt.xlabel('Value of K for knn')\n",
    "plt.ylabel('Testing Accuracy')"
   ]
  },
  {
   "cell_type": "code",
   "execution_count": 42,
   "metadata": {},
   "outputs": [
    {
     "name": "stdout",
     "output_type": "stream",
     "text": [
      "             precision    recall  f1-score   support\n",
      "\n",
      "          1       0.80      0.20      0.31       184\n",
      "          5       0.85      0.99      0.91       838\n",
      "\n",
      "avg / total       0.84      0.85      0.81      1022\n",
      "\n",
      "Predication Accuracy: 0.8463796477\n"
     ]
    },
    {
     "data": {
      "image/png": "[encoded data removed]",
      "text/plain": [
       "<Figure size 432x288 with 2 Axes>"
      ]
     },
     "metadata": {},
     "output_type": "display_data"
    }
   ],
   "source": [
    "#try kneighborsclassifier (k=6), fail to improve accuracy\n",
    "from sklearn.neighbors import KNeighborsClassifier\n",
    "knn = KNeighborsClassifier(n_neighbors = 6)\n",
    "X_train, X_test, y_train, y_test = train_test_split(review[(review.stars== 1)| (review.stars==5)]['text'], review[(review.stars==1)| (review.stars==5)]['stars'], random_state=1)\n",
    "X_train_t = vect.fit_transform(X_train)\n",
    "X_test_t = vect.transform(X_test)\n",
    "knn.fit(X_train_t, y_train)\n",
    "y_pred_class = knn.predict(X_test_t)\n",
    "\n",
    "predictionReport(y_test, y_pred_class, ['1', '5'])"
   ]
  },
  {
   "cell_type": "code",
   "execution_count": 43,
   "metadata": {},
   "outputs": [
    {
     "name": "stdout",
     "output_type": "stream",
     "text": [
      "Predication Accuracy: 0.8669275930\n"
     ]
    }
   ],
   "source": [
    "###3.1.2 Try RandomForestClassifier, but accuracy is lowered.\n",
    "classifier = RandomForestClassifier(n_estimators=10, random_state=1)  \n",
    "classifier.fit(X_train_t, y_train)  \n",
    "y_pred_class_RFC = classifier.predict(X_test_t)\n",
    "\n",
    "print(\"Predication Accuracy: %.10f\"%metrics.accuracy_score(y_test, y_pred_class_RFC))\n"
   ]
  },
  {
   "cell_type": "code",
   "execution_count": 44,
   "metadata": {},
   "outputs": [],
   "source": [
    "#Try which value of n should be used\n",
    "n_range = range(1,30,1)\n",
    "scores = []\n",
    "for n in n_range:\n",
    "    RFC = RandomForestClassifier(n_estimators=n, random_state=1)\n",
    "    RFC.fit(X_train_t, y_train)\n",
    "    y_pred_class_RFC = RFC.predict(X_test_t)\n",
    "    scores.append(metrics.accuracy_score(y_test, y_pred_class_RFC))"
   ]
  },
  {
   "cell_type": "code",
   "execution_count": 45,
   "metadata": {},
   "outputs": [
    {
     "data": {
      "text/plain": [
       "Text(0,0.5,'Testing Accuracy')"
      ]
     },
     "execution_count": 45,
     "metadata": {},
     "output_type": "execute_result"
    },
    {
     "data": {
      "image/png": "[encoded data removed]",
      "text/plain": [
       "<Figure size 432x288 with 1 Axes>"
      ]
     },
     "metadata": {},
     "output_type": "display_data"
    }
   ],
   "source": [
    "import matplotlib.pyplot as plt\n",
    "# allow plots to appears inside notebook\n",
    "%matplotlib inline\n",
    "\n",
    "# plot the relationship between k and scores (the testing accuracy)\n",
    "plt.plot(n_range, scores)\n",
    "plt.xlabel('Value of n for RFC')\n",
    "plt.ylabel('Testing Accuracy')"
   ]
  },
  {
   "cell_type": "code",
   "execution_count": 46,
   "metadata": {
    "scrolled": false
   },
   "outputs": [
    {
     "name": "stdout",
     "output_type": "stream",
     "text": [
      "Predication Accuracy: 0.8737769080\n",
      "             precision    recall  f1-score   support\n",
      "\n",
      "          1       0.87      0.35      0.50       184\n",
      "          5       0.87      0.99      0.93       838\n",
      "\n",
      "avg / total       0.87      0.87      0.85      1022\n",
      "\n",
      "Predication Accuracy: 0.8737769080\n"
     ]
    },
    {
     "data": {
      "image/png": "[encoded data removed]",
      "text/plain": [
       "<Figure size 432x288 with 2 Axes>"
      ]
     },
     "metadata": {},
     "output_type": "display_data"
    }
   ],
   "source": [
    "###3.1.2 Try RandomForestClassifier again with (n_estimator=14)\n",
    "classifier = RandomForestClassifier(n_estimators=14, random_state=1)  \n",
    "classifier.fit(X_train_t, y_train)  \n",
    "y_pred_class_RFC = classifier.predict(X_test_t)\n",
    "\n",
    "print(\"Predication Accuracy: %.10f\"%metrics.accuracy_score(y_test, y_pred_class_RFC))\n",
    "predictionReport(y_test, y_pred_class_RFC, ['1', '5'])"
   ]
  },
  {
   "cell_type": "code",
   "execution_count": 47,
   "metadata": {},
   "outputs": [
    {
     "name": "stdout",
     "output_type": "stream",
     "text": [
      "             precision    recall  f1-score   support\n",
      "\n",
      "          1       0.85      0.71      0.77       184\n",
      "          5       0.94      0.97      0.95       838\n",
      "\n",
      "avg / total       0.92      0.92      0.92      1022\n",
      "\n",
      "Predication Accuracy: 0.9246575342\n"
     ]
    },
    {
     "data": {
      "image/png": "[encoded data removed]",
      "text/plain": [
       "<Figure size 432x288 with 2 Axes>"
      ]
     },
     "metadata": {},
     "output_type": "display_data"
    }
   ],
   "source": [
    "###3.1.3 Try Log Support Vector Machines, accuracy is raised to 92.75%\n",
    "\n",
    "svm = SGDClassifier(loss='log', max_iter=100000, tol=1e-3)  #Log returns a Logrithmic SVM\n",
    "\n",
    "svm.fit(X_train_t, y_train)\n",
    "y_pred_class_SVGOri = svm.predict(X_test_t)\n",
    "\n",
    "predictionReport(y_test, y_pred_class_SVGOri, ['1', '5'])"
   ]
  },
  {
   "cell_type": "code",
   "execution_count": 48,
   "metadata": {
    "scrolled": false
   },
   "outputs": [
    {
     "name": "stdout",
     "output_type": "stream",
     "text": [
      "             precision    recall  f1-score   support\n",
      "\n",
      "          1       0.77      0.80      0.79       184\n",
      "          5       0.96      0.95      0.95       838\n",
      "\n",
      "avg / total       0.92      0.92      0.92      1022\n",
      "\n",
      "Predication Accuracy: 0.9227005871\n"
     ]
    },
    {
     "data": {
      "image/png": "[encoded data removed]",
      "text/plain": [
       "<Figure size 432x288 with 2 Axes>"
      ]
     },
     "metadata": {},
     "output_type": "display_data"
    }
   ],
   "source": [
    "###3.1.4 Try Linear Support Vector Machines, accuracy is increased to 92.27%\n",
    "svc = LinearSVC()\n",
    "\n",
    "svc.fit(X_train_t, y_train)\n",
    "y_pred_class_SVCOri = svc.predict(X_test_t)\n",
    "\n",
    "predictionReport(y_test, y_pred_class_SVCOri, ['1', '5'])"
   ]
  },
  {
   "cell_type": "code",
   "execution_count": 50,
   "metadata": {},
   "outputs": [
    {
     "name": "stdout",
     "output_type": "stream",
     "text": [
      "             precision    recall  f1-score   support\n",
      "\n",
      "          1       0.81      0.76      0.79       184\n",
      "          5       0.95      0.96      0.95       838\n",
      "\n",
      "avg / total       0.92      0.93      0.92      1022\n",
      "\n",
      "Predication Accuracy: 0.9256360078\n"
     ]
    },
    {
     "data": {
      "image/png": "[encoded data removed]",
      "text/plain": [
       "<Figure size 432x288 with 2 Axes>"
      ]
     },
     "metadata": {},
     "output_type": "display_data"
    }
   ],
   "source": [
    "###3.1.5 Try Logistic Regression, accuracy is increased to 92.56% \n",
    "from sklearn.linear_model import LogisticRegression\n",
    "logreg = LogisticRegression()\n",
    "logreg.fit(X_train_t, y_train)\n",
    "y_pred_class_LR = logreg.predict(X_test_t)\n",
    "\n",
    "predictionReport(y_test, y_pred_class_LR, ['1', '5'])"
   ]
  },
  {
   "cell_type": "code",
   "execution_count": 51,
   "metadata": {
    "scrolled": true
   },
   "outputs": [
    {
     "name": "stdout",
     "output_type": "stream",
     "text": [
      "             precision    recall  f1-score   support\n",
      "\n",
      "          1       0.94      0.75      0.84       179\n",
      "          5       0.95      0.99      0.97       834\n",
      "\n",
      "avg / total       0.95      0.95      0.95      1013\n",
      "\n",
      "Predication Accuracy: 0.9486673248\n"
     ]
    },
    {
     "data": {
      "image/png": "[encoded data removed]",
      "text/plain": [
       "<Figure size 432x288 with 2 Axes>"
      ]
     },
     "metadata": {},
     "output_type": "display_data"
    }
   ],
   "source": [
    "###3.1.6 best accuracy at 94.86% with Logistic Regression and only including reviews longer than 20 words + only words longer than 2 letters\n",
    "review = pd.read_csv(\"review.csv\")\n",
    "review=review[review['text'].map(len) > 20]\n",
    "review.text = review.text.apply(lambda x: ' '.join([word for word in str(x).split(' ') if len(word) >= 3]))\n",
    "vect = CountVectorizer()\n",
    "\n",
    "X_train, X_test, y_train, y_test = train_test_split(review[(review.stars == 1) | (review.stars==5)]['text'], review[(review.stars==1) | (review.stars==5)]['stars'], random_state=1)\n",
    "\n",
    "X_train_t = vect.fit_transform(X_train)\n",
    "X_test_t = vect.transform(X_test)\n",
    "\n",
    "from sklearn.linear_model import LogisticRegression\n",
    "logreg = LogisticRegression()\n",
    "logreg.fit(X_train_t, y_train)\n",
    "y_pred_class = logreg.predict(X_test_t)\n",
    "\n",
    "predictionReport(y_test, y_pred_class, ['1', '5'])"
   ]
  },
  {
   "cell_type": "markdown",
   "metadata": {},
   "source": [
    "### Task 3.2"
   ]
  },
  {
   "cell_type": "markdown",
   "metadata": {},
   "source": [
    "Our method and ideas for prediction stars 1-5:\n",
    "- 3.2.1 only including reviews longer than 10 words\n",
    "- 3.2.2 only including token words longer than 3 letters\n",
    "- 3.2.3 combining above only including: \n",
    "    - reviews longer than 10 words\n",
    "    - token words longer than 3 letters\n",
    "- 3.2.4 using count vectoriser with filter max_features=1700, min_df=2, max_df=0.9\n",
    "- 3.2.5 combine above including \n",
    "    - reviews longer than 10 words\n",
    "    - token words longer than 3 letters\n",
    "    - count vectoriser with filter max_features=1700, min_df=2, max_df=0.9\n",
    "- 3.2.6 removing stop words\n",
    "- 3.2.7 filter out reviews if user only gave one review\n",
    "- 3.2.8 trying logistic regression and Term Frequency-InversDocument Frequency, with count vectoriser \n",
    "    - count vectoriser with filter max_features=1700, min_df=2, max_df=0.9"
   ]
  },
  {
   "cell_type": "code",
   "execution_count": 52,
   "metadata": {},
   "outputs": [
    {
     "name": "stdout",
     "output_type": "stream",
     "text": [
      "             precision    recall  f1-score   support\n",
      "\n",
      "          1       0.69      0.36      0.47       182\n",
      "          2       0.47      0.08      0.14       245\n",
      "          3       0.29      0.12      0.17       356\n",
      "          4       0.44      0.73      0.55       870\n",
      "          5       0.61      0.57      0.59       844\n",
      "\n",
      "avg / total       0.50      0.49      0.46      2497\n",
      "\n",
      "Predication Accuracy: 0.4949939928\n"
     ]
    },
    {
     "data": {
      "image/png": "[encoded data removed]",
      "text/plain": [
       "<Figure size 432x288 with 2 Axes>"
      ]
     },
     "metadata": {},
     "output_type": "display_data"
    }
   ],
   "source": [
    "###3.2.1 only including reviews longer than 10 words, accuracy is improved to 47.49%.\n",
    "review = pd.read_csv(\"review.csv\")\n",
    "review=review[review['text'].map(len) > 10]\n",
    "vect = CountVectorizer()\n",
    "\n",
    "X_train, X_test, y_train, y_test = train_test_split(review['text'], review['stars'], random_state=1)\n",
    "\n",
    "X_train_t = vect.fit_transform(X_train)\n",
    "X_test_t = vect.transform(X_test)\n",
    "\n",
    "nb.fit(X_train_t, y_train)\n",
    "y_pred_class = nb.predict(X_test_t)\n",
    "\n",
    "predictionReport(y_test, y_pred_class, ['1', '2', '3', '4', '5'])"
   ]
  },
  {
   "cell_type": "code",
   "execution_count": 53,
   "metadata": {},
   "outputs": [
    {
     "name": "stdout",
     "output_type": "stream",
     "text": [
      "             precision    recall  f1-score   support\n",
      "\n",
      "          1       0.61      0.31      0.41       185\n",
      "          2       0.37      0.07      0.12       234\n",
      "          3       0.30      0.10      0.15       365\n",
      "          4       0.43      0.71      0.53       884\n",
      "          5       0.59      0.53      0.56       832\n",
      "\n",
      "avg / total       0.47      0.47      0.44      2500\n",
      "\n",
      "Predication Accuracy: 0.4740000000\n"
     ]
    },
    {
     "data": {
      "image/png": "[encoded data removed]",
      "text/plain": [
       "<Figure size 432x288 with 2 Axes>"
      ]
     },
     "metadata": {},
     "output_type": "display_data"
    }
   ],
   "source": [
    "###3.2.2 only including token words longer than 3 letters, accuracy is raised to 47.40%\n",
    "review = pd.read_csv(\"review.csv\")\n",
    "review.text = review.text.apply(lambda x: ' '.join([word for word in str(x).split(' ') if len(word) >= 3]))\n",
    "vect = CountVectorizer()\n",
    "\n",
    "X_train, X_test, y_train, y_test = train_test_split(review['text'], review['stars'], random_state=1)\n",
    "\n",
    "X_train_t = vect.fit_transform(X_train)\n",
    "X_test_t = vect.transform(X_test)\n",
    "\n",
    "nb.fit(X_train_t, y_train)\n",
    "y_pred_class = nb.predict(X_test_t)\n",
    "\n",
    "predictionReport(y_test, y_pred_class, ['1', '2', '3', '4', '5'])"
   ]
  },
  {
   "cell_type": "code",
   "execution_count": 54,
   "metadata": {},
   "outputs": [
    {
     "name": "stdout",
     "output_type": "stream",
     "text": [
      "             precision    recall  f1-score   support\n",
      "\n",
      "          1       0.67      0.28      0.40       205\n",
      "          2       0.38      0.09      0.14       243\n",
      "          3       0.27      0.10      0.14       355\n",
      "          4       0.44      0.72      0.55       858\n",
      "          5       0.63      0.60      0.61       836\n",
      "\n",
      "avg / total       0.49      0.50      0.46      2497\n",
      "\n",
      "Predication Accuracy: 0.4965959151\n"
     ]
    },
    {
     "data": {
      "image/png": "[encoded data removed]",
      "text/plain": [
       "<Figure size 432x288 with 2 Axes>"
      ]
     },
     "metadata": {},
     "output_type": "display_data"
    }
   ],
   "source": [
    "###3.2.3 combining above only including:reviews longer than 10 words & token words longer than 3 letters, accuracy is raised to 49.65%\n",
    "review=review[review['text'].map(len) > 10]\n",
    "review.text = review.text.apply(lambda x: ' '.join([word for word in str(x).split(' ') if len(word) >= 3]))\n",
    "vect = CountVectorizer()\n",
    "\n",
    "X_train, X_test, y_train, y_test = train_test_split(review['text'], review['stars'], random_state=1)\n",
    "\n",
    "X_train_t = vect.fit_transform(X_train)\n",
    "X_test_t = vect.transform(X_test)\n",
    "\n",
    "nb.fit(X_train_t, y_train)\n",
    "y_pred_class = nb.predict(X_test_t)\n",
    "\n",
    "predictionReport(y_test, y_pred_class, ['1', '2', '3', '4', '5'])"
   ]
  },
  {
   "cell_type": "code",
   "execution_count": 55,
   "metadata": {},
   "outputs": [
    {
     "name": "stdout",
     "output_type": "stream",
     "text": [
      "             precision    recall  f1-score   support\n",
      "\n",
      "          1       0.39      0.52      0.44       185\n",
      "          2       0.36      0.27      0.31       234\n",
      "          3       0.39      0.38      0.38       365\n",
      "          4       0.53      0.53      0.53       884\n",
      "          5       0.61      0.61      0.61       832\n",
      "\n",
      "avg / total       0.51      0.51      0.51      2500\n",
      "\n",
      "Predication Accuracy: 0.5104000000\n"
     ]
    },
    {
     "data": {
      "image/png": "[encoded data removed]",
      "text/plain": [
       "<Figure size 432x288 with 2 Axes>"
      ]
     },
     "metadata": {},
     "output_type": "display_data"
    }
   ],
   "source": [
    "###3.2.4 using count vectoriser with filter max_features=1700, min_df=2, max_df=0.9, accuracy is raised to 51.04%\n",
    "review = pd.read_csv(\"review.csv\")\n",
    "vect = CountVectorizer(max_features=1700, min_df=2, max_df=0.9)\n",
    "X_train, X_test, y_train, y_test = train_test_split(review['text'], review['stars'], random_state=1)\n",
    "X_train_t = vect.fit_transform(X_train)\n",
    "X_test_t = vect.transform(X_test)\n",
    "nb.fit(X_train_t, y_train)\n",
    "y_pred_class = nb.predict(X_test_t)\n",
    "\n",
    "predictionReport(y_test, y_pred_class, ['1', '2', '3', '4', '5'])"
   ]
  },
  {
   "cell_type": "code",
   "execution_count": 56,
   "metadata": {},
   "outputs": [
    {
     "name": "stdout",
     "output_type": "stream",
     "text": [
      "             precision    recall  f1-score   support\n",
      "\n",
      "          1       0.42      0.56      0.48       182\n",
      "          2       0.41      0.30      0.35       245\n",
      "          3       0.40      0.38      0.39       356\n",
      "          4       0.54      0.53      0.53       870\n",
      "          5       0.63      0.65      0.64       844\n",
      "\n",
      "avg / total       0.53      0.53      0.53      2497\n",
      "\n",
      "Predication Accuracy: 0.5290348418\n"
     ]
    },
    {
     "data": {
      "image/png": "[encoded data removed]",
      "text/plain": [
       "<Figure size 432x288 with 2 Axes>"
      ]
     },
     "metadata": {},
     "output_type": "display_data"
    }
   ],
   "source": [
    "###3.2.5 Accuracy is raised to 52.9% by combining above including reviews longer than 10 words + token words longer than 3 letters + count vectoriser with filter max_features=1700, min_df=2, max_df=0.9\n",
    "review = pd.read_csv(\"review.csv\")\n",
    "review=review[review['text'].map(len) > 10]\n",
    "review.text = review.text.apply(lambda x: ' '.join([word for word in str(x).split(' ') if len(word) >= 3]))\n",
    "vect = CountVectorizer(max_features=1700, min_df=2, max_df=0.9)\n",
    "X_train, X_test, y_train, y_test = train_test_split(review['text'], review['stars'], random_state=1)\n",
    "\n",
    "X_train_t = vect.fit_transform(X_train)\n",
    "X_test_t = vect.transform(X_test)\n",
    "nb.fit(X_train_t, y_train)\n",
    "y_pred_class = nb.predict(X_test_t)\n",
    "\n",
    "predictionReport(y_test, y_pred_class, ['1', '2', '3', '4', '5'])"
   ]
  },
  {
   "cell_type": "code",
   "execution_count": 57,
   "metadata": {},
   "outputs": [
    {
     "name": "stdout",
     "output_type": "stream",
     "text": [
      "             precision    recall  f1-score   support\n",
      "\n",
      "          1       0.60      0.31      0.41       185\n",
      "          2       0.35      0.07      0.12       234\n",
      "          3       0.30      0.10      0.15       365\n",
      "          4       0.43      0.72      0.53       884\n",
      "          5       0.58      0.51      0.54       832\n",
      "\n",
      "avg / total       0.46      0.47      0.43      2500\n",
      "\n",
      "Predication Accuracy: 0.4692000000\n"
     ]
    },
    {
     "data": {
      "image/png": "[encoded data removed]",
      "text/plain": [
       "<Figure size 432x288 with 2 Axes>"
      ]
     },
     "metadata": {},
     "output_type": "display_data"
    }
   ],
   "source": [
    "###3.2.6 Trying to removing stop words but accuracy to lowered\n",
    "review = pd.read_csv(\"review.csv\")\n",
    "vect = CountVectorizer(stop_words=stopwords.words('english'))\n",
    "\n",
    "X_train, X_test, y_train, y_test = train_test_split(review['text'], review['stars'], random_state=1)\n",
    "\n",
    "X_train_t = vect.fit_transform(X_train)\n",
    "X_test_t = vect.transform(X_test)\n",
    "\n",
    "nb.fit(X_train_t, y_train)\n",
    "y_pred_class = nb.predict(X_test_t)\n",
    "\n",
    "predictionReport(y_test, y_pred_class, ['1', '2', '3', '4', '5'])"
   ]
  },
  {
   "cell_type": "code",
   "execution_count": 58,
   "metadata": {},
   "outputs": [
    {
     "name": "stdout",
     "output_type": "stream",
     "text": [
      "             precision    recall  f1-score   support\n",
      "\n",
      "          1       1.00      0.03      0.06        68\n",
      "          2       0.18      0.02      0.03       123\n",
      "          3       0.31      0.09      0.14       240\n",
      "          4       0.41      0.80      0.54       491\n",
      "          5       0.50      0.34      0.40       361\n",
      "\n",
      "avg / total       0.43      0.42      0.35      1283\n",
      "\n",
      "Predication Accuracy: 0.4216679657\n"
     ]
    },
    {
     "data": {
      "image/png": "[encoded data removed]",
      "text/plain": [
       "<Figure size 432x288 with 2 Axes>"
      ]
     },
     "metadata": {},
     "output_type": "display_data"
    }
   ],
   "source": [
    "###3.2.7 filter out reviews if user only gave one review, but not sucessful to raise accuracy\n",
    "review = pd.read_csv(\"review.csv\")\n",
    "review = review.groupby('user_id').filter(lambda x: len(x) > 1)\n",
    "vect = CountVectorizer()\n",
    "X_train, X_test, y_train, y_test = train_test_split(review['text'], review['stars'], random_state=1)\n",
    "\n",
    "X_train_t = vect.fit_transform(X_train)\n",
    "X_test_t = vect.transform(X_test)\n",
    "\n",
    "\n",
    "nb.fit(X_train_t, y_train)\n",
    "y_pred_class = nb.predict(X_test_t)\n",
    "\n",
    "predictionReport(y_test, y_pred_class, ['1', '2', '3', '4', '5'])"
   ]
  },
  {
   "cell_type": "code",
   "execution_count": 59,
   "metadata": {},
   "outputs": [
    {
     "data": {
      "text/plain": [
       "(5131, 10)"
      ]
     },
     "execution_count": 59,
     "metadata": {},
     "output_type": "execute_result"
    }
   ],
   "source": [
    "#Only half of the results are left\n",
    "review.shape"
   ]
  },
  {
   "cell_type": "code",
   "execution_count": 60,
   "metadata": {},
   "outputs": [
    {
     "name": "stdout",
     "output_type": "stream",
     "text": [
      "             precision    recall  f1-score   support\n",
      "\n",
      "          1       0.60      0.42      0.50       185\n",
      "          2       0.51      0.18      0.27       234\n",
      "          3       0.44      0.23      0.30       365\n",
      "          4       0.50      0.64      0.56       884\n",
      "          5       0.59      0.68      0.63       832\n",
      "\n",
      "avg / total       0.53      0.53      0.51      2500\n",
      "\n",
      "Predication Accuracy: 0.5344000000\n"
     ]
    },
    {
     "data": {
      "image/png": "[encoded data removed]",
      "text/plain": [
       "<Figure size 432x288 with 2 Axes>"
      ]
     },
     "metadata": {},
     "output_type": "display_data"
    }
   ],
   "source": [
    "###3.2.8 trying logistic regression and Term Frequency-InversDocument Frequency, with count vectoriser, accuracy is raised to 53.44%\n",
    "review = pd.read_csv(\"review.csv\")\n",
    "vect = CountVectorizer(max_features=1700, min_df=2, max_df=0.9)\n",
    "X_train, X_test, y_train, y_test = train_test_split(review['text'], review['stars'], random_state=1)\n",
    "\n",
    "X_train_t = vect.fit_transform(X_train)\n",
    "X_test_t = vect.transform(X_test)\n",
    "tfidf_transform = TfidfTransformer()  #Remove Common&Freq words but irrelevant to the meaning words. (Term Frequency-InversDocument Frequency)\n",
    "X_train_tfidf = tfidf_transform.fit_transform(X_train_t)\n",
    "X_test_tfidf = tfidf_transform.fit_transform(X_test_t)\n",
    "\n",
    "from sklearn.linear_model import LogisticRegression\n",
    "logreg = LogisticRegression()\n",
    "logreg.fit(X_train_tfidf, y_train)\n",
    "y_pred_class = logreg.predict(X_test_tfidf)\n",
    "\n",
    "predictionReport(y_test, y_pred_class, ['1', '2', '3', '4', '5'])\n"
   ]
  }
 ],
 "metadata": {
  "kernelspec": {
   "display_name": "Python 3",
   "language": "python",
   "name": "python3"
  },
  "language_info": {
   "codemirror_mode": {
    "name": "ipython",
    "version": 3
   },
   "file_extension": ".py",
   "mimetype": "text/x-python",
   "name": "python",
   "nbconvert_exporter": "python",
   "pygments_lexer": "ipython3",
   "version": "3.6.5"
  }
 },
 "nbformat": 4,
 "nbformat_minor": 2
}
